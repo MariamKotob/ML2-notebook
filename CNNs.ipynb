{
  "nbformat": 4,
  "nbformat_minor": 0,
  "metadata": {
    "colab": {
      "name": "w2_d4_2_CNNs.ipynb",
      "provenance": [],
      "collapsed_sections": [],
      "include_colab_link": true
    },
    "kernelspec": {
      "name": "python3",
      "display_name": "Python 3"
    }
  },
  "cells": [
    {
      "cell_type": "markdown",
      "metadata": {
        "id": "view-in-github",
        "colab_type": "text"
      },
      "source": [
        "<a href=\"https://colab.research.google.com/github/MariamKotob/ML2-notebook/blob/master/CNNs.ipynb\" target=\"_parent\"><img src=\"https://colab.research.google.com/assets/colab-badge.svg\" alt=\"Open In Colab\"/></a>"
      ]
    },
    {
      "cell_type": "markdown",
      "metadata": {
        "id": "r9dW4uSU0wIO",
        "colab_type": "text"
      },
      "source": [
        "# Convolutional Neural Networks\n",
        "\n",
        "### imports"
      ]
    },
    {
      "cell_type": "code",
      "metadata": {
        "id": "fLJ2aAvP0v50",
        "colab_type": "code",
        "colab": {}
      },
      "source": [
        "!pip -q install pydot_ng > /dev/null 2>&1\n",
        "!pip -q install graphviz > /dev/null 2>&1\n",
        "!apt install graphviz > /dev/null 2>&1\n",
        "\n",
        "import numpy as np\n",
        "import matplotlib.pyplot as plt\n",
        "import tensorflow as tf\n",
        "from IPython import display\n",
        "%matplotlib inline"
      ],
      "execution_count": 1,
      "outputs": []
    },
    {
      "cell_type": "markdown",
      "metadata": {
        "id": "-KqNXqNlz8qm",
        "colab_type": "text"
      },
      "source": [
        "### 2D Convolution\n",
        "\n",
        "create a function conv2d that performs a 2D Convolution on an input grayscale image (2D numpy array) with a given 2D kernel"
      ]
    },
    {
      "cell_type": "code",
      "metadata": {
        "id": "eug2ul4WzyZs",
        "colab_type": "code",
        "colab": {
          "base_uri": "https://localhost:8080/",
          "height": 282
        },
        "outputId": "e01a6000-1e72-49d3-e1b7-8299a9d2e062"
      },
      "source": [
        "rand_img = np.random.uniform(size=[8, 8])\n",
        "rand_kernel = np.random.uniform(size=[3, 3])\n",
        "plt.imshow(rand_img, cmap='gray')"
      ],
      "execution_count": 2,
      "outputs": [
        {
          "output_type": "execute_result",
          "data": {
            "text/plain": [
              "<matplotlib.image.AxesImage at 0x7ff791809cc0>"
            ]
          },
          "metadata": {
            "tags": []
          },
          "execution_count": 2
        },
        {
          "output_type": "display_data",
          "data": {
            "image/png": "[encoded data removed]",
            "text/plain": [
              "<Figure size 432x288 with 1 Axes>"
            ]
          },
          "metadata": {
            "tags": [],
            "needs_background": "light"
          }
        }
      ]
    },
    {
      "cell_type": "code",
      "metadata": {
        "id": "xmBq-NIn0-eG",
        "colab_type": "code",
        "colab": {}
      },
      "source": [
        "def conv2d(img, kernel):\n",
        "    #Your code goes here\n",
        "    out_img = np.zeros([ (img.shape[0]-kernel.shape[0]+1), (img.shape[1]-kernel.shape[1]+1) ])\n",
        "    for i in range(out_img.shape[0]):\n",
        "      for j in range(out_img.shape[1]):\n",
        "        out_img[i, j] = np.sum( np.multiply( kernel, img[i:i+kernel.shape[0], j:j+kernel.shape[1]]))\n",
        "    return out_img"
      ],
      "execution_count": 11,
      "outputs": []
    },
    {
      "cell_type": "code",
      "metadata": {
        "id": "RzQ2Wqdr3213",
        "colab_type": "code",
        "colab": {
          "base_uri": "https://localhost:8080/",
          "height": 282
        },
        "outputId": "87cae087-1c1e-4db7-e717-f1b6f3bdb1e7"
      },
      "source": [
        "convoluted_img = conv2d(rand_img, rand_kernel)\n",
        "plt.imshow(convoluted_img, cmap='gray')"
      ],
      "execution_count": 12,
      "outputs": [
        {
          "output_type": "execute_result",
          "data": {
            "text/plain": [
              "<matplotlib.image.AxesImage at 0x7ff78a1a9518>"
            ]
          },
          "metadata": {
            "tags": []
          },
          "execution_count": 12
        },
        {
          "output_type": "display_data",
          "data": {
            "image/png": "[encoded data removed]",
            "text/plain": [
              "<Figure size 432x288 with 1 Axes>"
            ]
          },
          "metadata": {
            "tags": [],
            "needs_background": "light"
          }
        }
      ]
    },
    {
      "cell_type": "markdown",
      "metadata": {
        "id": "jXqyqAvYANk_",
        "colab_type": "text"
      },
      "source": [
        "Now add the padding and stride:"
      ]
    },
    {
      "cell_type": "code",
      "metadata": {
        "id": "kTC7cQ4t4G8o",
        "colab_type": "code",
        "colab": {}
      },
      "source": [
        "def conv2d(img, kernel, padding=0, stride=1):\n",
        "    #Your code goes here\n",
        "    out_img = np.zeros([ \n",
        "                        (img.shape[0]-kernel.shape[0]+1+2*padding) // stride, \n",
        "                        (img.shape[1]-kernel.shape[1]+1+2*padding) // stride \n",
        "                        ])\n",
        "    #padded_img = np.zeros([ (img.shape[0]+2*padding), (img.shape[1]+2*padding) ])\n",
        "    #padded_img[padding:-padding , padding:-padding] = rand_img\n",
        "    padded_img = np.pad(img, padding, 'constant')\n",
        "    k, l = 0, 0\n",
        "    for i in range(out_img.shape[0]):\n",
        "      for j in range(out_img.shape[1]):\n",
        "        out_img[i, j] = np.sum( np.multiply( kernel, padded_img[k:k+kernel.shape[0], l:l+kernel.shape[1]]))\n",
        "        l += stride \n",
        "      k += stride\n",
        "      l = 0\n",
        "    return out_img"
      ],
      "execution_count": 23,
      "outputs": []
    },
    {
      "cell_type": "code",
      "metadata": {
        "id": "qUkqCIUf6S5Z",
        "colab_type": "code",
        "colab": {
          "base_uri": "https://localhost:8080/",
          "height": 286
        },
        "outputId": "bdd92c32-2742-44f7-d8fa-8163f50a1432"
      },
      "source": [
        "convoluted_img = conv2d(rand_img, rand_kernel, padding=0, stride=2)\n",
        "plt.imshow(convoluted_img, cmap='gray')"
      ],
      "execution_count": 24,
      "outputs": [
        {
          "output_type": "execute_result",
          "data": {
            "text/plain": [
              "<matplotlib.image.AxesImage at 0x7ff789ca3668>"
            ]
          },
          "metadata": {
            "tags": []
          },
          "execution_count": 24
        },
        {
          "output_type": "display_data",
          "data": {
            "image/png": "[encoded data removed]",
            "text/plain": [
              "<Figure size 432x288 with 1 Axes>"
            ]
          },
          "metadata": {
            "tags": [],
            "needs_background": "light"
          }
        }
      ]
    },
    {
      "cell_type": "markdown",
      "metadata": {
        "id": "-ZWFtjJWEJe5",
        "colab_type": "text"
      },
      "source": [
        "Now adjust the hyperparameters using the sliders on the right and see how the output shape changes\n",
        "\n"
      ]
    },
    {
      "cell_type": "code",
      "metadata": {
        "id": "J1K9fCaHA-fw",
        "colab_type": "code",
        "colab": {
          "base_uri": "https://localhost:8080/",
          "height": 438
        },
        "outputId": "292aa02d-f3cd-4457-c0e1-e42d6c23f14d"
      },
      "source": [
        "#@title Convolutional layer parameters {run: \"auto\"}\n",
        "filters = 0  #@param { type: \"slider\", min:0, max: 10, step: 1 }\n",
        "kernel_size = 3 #@param { type: \"slider\", min:1, max: 10, step: 1 }\n",
        "stride = 2 #@param { type: \"slider\", min:1, max: 3, step: 1 }\n",
        "\n",
        "# Create a random colour \"image\" of shape 10x10 with a depth of 3 (for red, green and blue)\n",
        "dummy_input = np.random.uniform(size=[10, 10, 3])\n",
        "fig, ax = plt.subplots(1, 1)\n",
        "plt.imshow(dummy_input)\n",
        "ax.grid(False)\n",
        "print('Input shape: {}'.format(dummy_input.shape))\n",
        "\n",
        "conv_layer = tf.keras.layers.Conv2D(\n",
        "    filters=filters,\n",
        "    kernel_size=kernel_size,\n",
        "    strides=stride,\n",
        "    padding=\"valid\",\n",
        "    input_shape=[10, 10, 3])\n",
        "\n",
        "# Convert the image to a tensor and add an extra batch dimension which\n",
        "# the convolutional layer expects.\n",
        "input_tensor = tf.convert_to_tensor(dummy_input[None, :, :, :])\n",
        "convoluted = conv_layer(input_tensor)\n",
        "\n",
        "print('The output dimension is: {}'.format(list(convoluted.shape)[1:]))\n",
        "print('The number of parameters is: {}'.format(conv_layer.count_params()))"
      ],
      "execution_count": 27,
      "outputs": [
        {
          "output_type": "stream",
          "text": [
            "Input shape: (10, 10, 3)\n",
            "WARNING:tensorflow:Layer conv2d_2 is casting an input tensor from dtype float64 to the layer's dtype of float32, which is new behavior in TensorFlow 2.  The layer has dtype float32 because its dtype defaults to floatx.\n",
            "\n",
            "If you intended to run this layer in float32, you can safely ignore this warning. If in doubt, this warning is likely only an issue if you are porting a TensorFlow 1.X model to TensorFlow 2.\n",
            "\n",
            "To change all layers to have dtype float64 by default, call `tf.keras.backend.set_floatx('float64')`. To change just this layer, pass dtype='float64' to the layer constructor. If you are the author of this layer, you can disable autocasting by passing autocast=False to the base Layer constructor.\n",
            "\n",
            "The output dimension is: [4, 4, 1]\n",
            "The number of parameters is: 28\n"
          ],
          "name": "stdout"
        },
        {
          "output_type": "display_data",
          "data": {
            "image/png": "[encoded data removed]",
            "text/plain": [
              "<Figure size 432x288 with 1 Axes>"
            ]
          },
          "metadata": {
            "tags": [],
            "needs_background": "light"
          }
        }
      ]
    },
    {
      "cell_type": "markdown",
      "metadata": {
        "id": "euqqnI28FRSF",
        "colab_type": "text"
      },
      "source": [
        "### Pooling\n",
        "\n",
        "Create a function called max_pool that performs a max pooling operation on a given image with a given kernel size and a given stride"
      ]
    },
    {
      "cell_type": "code",
      "metadata": {
        "id": "Z_3bCix-Ew0I",
        "colab_type": "code",
        "colab": {}
      },
      "source": [
        "def max_pool(image, kernel_size=2, stride=2):\n",
        "    #Your code goes here\n",
        "    out_img = np.zeros([ \n",
        "                        1+ (image.shape[0]-kernel_size) // stride, \n",
        "                        1+ (image.shape[1]-kernel_size) // stride \n",
        "                        ])\n",
        "    k, l = 0, 0\n",
        "    for i in range(out_img.shape[0]):\n",
        "      for j in range(out_img.shape[1]):\n",
        "        out_img[i, j] = np.max( image[k:k+kernel_size, l:l+kernel_size])\n",
        "        l += stride \n",
        "      k += stride\n",
        "      l = 0\n",
        "    return out_img"
      ],
      "execution_count": 33,
      "outputs": []
    },
    {
      "cell_type": "markdown",
      "metadata": {
        "id": "ayD0K8iEF5Wh",
        "colab_type": "text"
      },
      "source": [
        "Now compare the results with the MaxPooling2D from tf.keras"
      ]
    },
    {
      "cell_type": "code",
      "metadata": {
        "id": "in1WGIIwF50e",
        "colab_type": "code",
        "colab": {
          "base_uri": "https://localhost:8080/",
          "height": 119
        },
        "outputId": "8c7b0ead-dd4e-473c-9f23-d98018a1e0b7"
      },
      "source": [
        "X = np.array([[9, 5, 4, 5, 6, 4],\n",
        "              [6, 6, 3, 5, 8, 2],\n",
        "              [4, 6, 9, 1, 3, 6],\n",
        "              [9, 7, 1, 5, 8, 1],\n",
        "              [4, 9, 9, 5, 7, 3],\n",
        "              [7, 3, 6, 4, 9, 1]])\n",
        "\n",
        "print(max_pool(X, kernel_size=2, stride=2))\n",
        "\n",
        "max_pool_layer = tf.keras.layers.MaxPooling2D((2, 2), strides=2)\n",
        "max_pool_layer(tf.convert_to_tensor(X[None, :, :, None])).numpy().squeeze()"
      ],
      "execution_count": 34,
      "outputs": [
        {
          "output_type": "stream",
          "text": [
            "[[9. 5. 8.]\n",
            " [9. 9. 8.]\n",
            " [9. 9. 9.]]\n"
          ],
          "name": "stdout"
        },
        {
          "output_type": "execute_result",
          "data": {
            "text/plain": [
              "array([[9, 5, 8],\n",
              "       [9, 9, 8],\n",
              "       [9, 9, 9]])"
            ]
          },
          "metadata": {
            "tags": []
          },
          "execution_count": 34
        }
      ]
    },
    {
      "cell_type": "markdown",
      "metadata": {
        "id": "b99NejbrGer9",
        "colab_type": "text"
      },
      "source": [
        "### Custom keras Layers\n",
        "\n",
        "With tf.keras we can create custom layers using the subclassing of tf.keras.layes.Layer. For example, to build a custom dense layer:"
      ]
    },
    {
      "cell_type": "code",
      "metadata": {
        "id": "HKhhzB3bF8K9",
        "colab_type": "code",
        "colab": {}
      },
      "source": [
        "class MyDenseLayer(tf.keras.layers.Layer):\n",
        "  def __init__(self, num_outputs):\n",
        "    super(MyDenseLayer, self).__init__()\n",
        "    self.num_outputs = num_outputs\n",
        "\n",
        "  def build(self, input_shape):\n",
        "    self.kernel = self.add_weight(\"kernel\",\n",
        "                                  shape = [int(input_shape[-1]), \n",
        "                                           self.num_outputs])\n",
        "  \n",
        "  def call(self, input):\n",
        "    return tf.matmul(input, self.kernel)\n",
        "\n",
        "layer = MyDenseLayer(10)"
      ],
      "execution_count": 48,
      "outputs": []
    },
    {
      "cell_type": "markdown",
      "metadata": {
        "id": "7cZijwZvIKU9",
        "colab_type": "text"
      },
      "source": [
        "Now create a ResNet block using the subclassing method\n"
      ]
    },
    {
      "cell_type": "code",
      "metadata": {
        "id": "dYk2Pg-MIP2r",
        "colab_type": "code",
        "colab": {}
      },
      "source": [
        "class ResNetBlock(tf.keras.Model):\n",
        "  def __init__(self, kernel_size, filters):\n",
        "    super(ResNetBlock, self).__init__(name='')\n",
        "\n",
        "    self.conv1 = tf.keras.layers.Conv2D(filters, kernel_size)\n",
        "    self.bn1 = tf.keras.layers.BatchNormalization()\n",
        "\n",
        "    self.conv2 = tf.keras.layers.Conv2D(filters, kernel_size)\n",
        "    self.bn2 = tf.keras.layers.BatchNormalization()\n",
        "\n",
        "  def call(self, input_tensor, training = False):\n",
        "    x = self.conv1(input_tensor)\n",
        "    x = self.bn1(x)\n",
        "    x = tf.nn.relu(x) \n",
        "\n",
        "    x = self.conv2(x)\n",
        "    x = self.bn2(x)\n",
        "    x += input_tensor \n",
        "    return tf.nn.relu(x)"
      ],
      "execution_count": 50,
      "outputs": []
    },
    {
      "cell_type": "code",
      "metadata": {
        "id": "KEgzXAp69kR2",
        "colab_type": "code",
        "colab": {
          "base_uri": "https://localhost:8080/",
          "height": 289
        },
        "outputId": "13f64c14-e501-473d-cb8d-e0ed12f9266f"
      },
      "source": [
        "block = ResNetBlock(1, 3)\n",
        "_ = block(tf.zeros([1, 3, 3, 3]))\n",
        "block.summary()"
      ],
      "execution_count": 53,
      "outputs": [
        {
          "output_type": "stream",
          "text": [
            "Model: \"res_net_block_2\"\n",
            "_________________________________________________________________\n",
            "Layer (type)                 Output Shape              Param #   \n",
            "=================================================================\n",
            "conv2d_7 (Conv2D)            multiple                  12        \n",
            "_________________________________________________________________\n",
            "batch_normalization_4 (Batch multiple                  12        \n",
            "_________________________________________________________________\n",
            "conv2d_8 (Conv2D)            multiple                  12        \n",
            "_________________________________________________________________\n",
            "batch_normalization_5 (Batch multiple                  12        \n",
            "=================================================================\n",
            "Total params: 48\n",
            "Trainable params: 36\n",
            "Non-trainable params: 12\n",
            "_________________________________________________________________\n"
          ],
          "name": "stdout"
        }
      ]
    },
    {
      "cell_type": "markdown",
      "metadata": {
        "id": "FACcajEJLZ8U",
        "colab_type": "text"
      },
      "source": [
        "### How to build models with tf.keras\n",
        "\n",
        "1. Sequential API"
      ]
    },
    {
      "cell_type": "code",
      "metadata": {
        "id": "vnjXTWeVIfwU",
        "colab_type": "code",
        "colab": {}
      },
      "source": [
        "my_model = tf.keras.Sequential([\n",
        "                                tf.keras.layers.Conv2D(1, (1,1), input_shape=(None, None, 3)),\n",
        "                                tf.keras.layers.BatchNormalization(),\n",
        "                                tf.keras.layers.Conv2D(1, (1,1)),\n",
        "                                ResNetBlock(1, 3)\n",
        "                                ])\n",
        "for i in range(2):\n",
        "  my_model.add(ResNetBlock(1, 3))"
      ],
      "execution_count": 60,
      "outputs": []
    },
    {
      "cell_type": "code",
      "metadata": {
        "id": "KVr3eCX_AJuZ",
        "colab_type": "code",
        "colab": {
          "base_uri": "https://localhost:8080/",
          "height": 357
        },
        "outputId": "10677f4e-18b0-4c69-b24b-52fbc6b44b06"
      },
      "source": [
        "my_model(tf.zeros([1, 2, 3, 3]))\n",
        "my_model.summary()"
      ],
      "execution_count": 61,
      "outputs": [
        {
          "output_type": "stream",
          "text": [
            "Model: \"sequential_2\"\n",
            "_________________________________________________________________\n",
            "Layer (type)                 Output Shape              Param #   \n",
            "=================================================================\n",
            "conv2d_15 (Conv2D)           (None, None, None, 1)     4         \n",
            "_________________________________________________________________\n",
            "batch_normalization_10 (Batc (None, None, None, 1)     4         \n",
            "_________________________________________________________________\n",
            "conv2d_16 (Conv2D)           (None, None, None, 1)     2         \n",
            "_________________________________________________________________\n",
            "res_net_block_4 (ResNetBlock (None, None, None, 3)     42        \n",
            "_________________________________________________________________\n",
            "res_net_block_5 (ResNetBlock (None, None, None, 3)     48        \n",
            "_________________________________________________________________\n",
            "res_net_block_6 (ResNetBlock (None, None, None, 3)     48        \n",
            "=================================================================\n",
            "Total params: 148\n",
            "Trainable params: 110\n",
            "Non-trainable params: 38\n",
            "_________________________________________________________________\n"
          ],
          "name": "stdout"
        }
      ]
    },
    {
      "cell_type": "markdown",
      "metadata": {
        "id": "m3uao-ZRLmsB",
        "colab_type": "text"
      },
      "source": [
        "2. Functional API"
      ]
    },
    {
      "cell_type": "code",
      "metadata": {
        "colab_type": "code",
        "id": "-GnE-KB2B3ka",
        "colab": {}
      },
      "source": [
        "def minigooglenet_functional(width, height, depth, classes):\n",
        "\tdef conv_module(x, K, kX, kY, stride, chanDim, padding=\"same\"):\n",
        "\t\t# define a CONV => BN => RELU pattern\n",
        "\t\tx = Conv2D(K, (kX, kY), strides=stride, padding=padding)(x)\n",
        "\t\tx = BatchNormalization(axis=chanDim)(x)\n",
        "\t\tx = Activation(\"relu\")(x)\n",
        "\t\t# return the block\n",
        "\t\treturn x\n",
        "\n",
        "\tdef inception_module(x, numK1x1, numK3x3, chanDim):\n",
        "\t\t# define two CONV modules, then concatenate across the\n",
        "\t\t# channel dimension\n",
        "\t\tconv_1x1 = conv_module(x, numK1x1, 1, 1, (1, 1), chanDim)\n",
        "\t\tconv_3x3 = conv_module(x, numK3x3, 3, 3, (1, 1), chanDim)\n",
        "\t\tx = concatenate([conv_1x1, conv_3x3], axis=chanDim)\n",
        "\t\t# return the block\n",
        "\t\treturn x\n",
        "\n",
        "\tdef downsample_module(x, K, chanDim):\n",
        "\t\t# define the CONV module and POOL, then concatenate\n",
        "\t\t# across the channel dimensions\n",
        "\t\tconv_3x3 = conv_module(x, K, 3, 3, (2, 2), chanDim,\n",
        "\t\t\tpadding=\"valid\")\n",
        "\t\tpool = MaxPooling2D((3, 3), strides=(2, 2))(x)\n",
        "\t\tx = concatenate([conv_3x3, pool], axis=chanDim)\n",
        "\t\t# return the block\n",
        "\t\treturn x\n",
        "\t\n",
        "\t# initialize the input shape to be \"channels last\" and the\n",
        "\t# channels dimension itself\n",
        "\tinputShape = (height, width, depth)\n",
        "\tchanDim = -1\n",
        "\t# define the model input and first CONV module\n",
        "\tinputs = Input(shape=inputShape)\n",
        "\tx = conv_module(inputs, 96, 3, 3, (1, 1), chanDim)\n",
        "\t# two Inception modules followed by a downsample module\n",
        "\tx = inception_module(x, 32, 32, chanDim)\n",
        "\tx = inception_module(x, 32, 48, chanDim)\n",
        "\tx = downsample_module(x, 80, chanDim)\n",
        "\t# four Inception modules followed by a downsample module\n",
        "\tx = inception_module(x, 112, 48, chanDim)\n",
        "\tx = inception_module(x, 96, 64, chanDim)\n",
        "\tx = inception_module(x, 80, 80, chanDim)\n",
        "\tx = inception_module(x, 48, 96, chanDim)\n",
        "\tx = downsample_module(x, 96, chanDim)\n",
        "\t# two Inception modules followed by global POOL and dropout\n",
        "\tx = inception_module(x, 176, 160, chanDim)\n",
        "\tx = inception_module(x, 176, 160, chanDim)\n",
        "\tx = AveragePooling2D((7, 7))(x)\n",
        "\tx = Dropout(0.5)(x)\n",
        "\t# softmax classifier\n",
        "\tx = Flatten()(x)\n",
        "\tx = Dense(classes)(x)\n",
        "\tx = Activation(\"softmax\")(x)\n",
        "\t# create the model\n",
        "\tmodel = Model(inputs, x, name=\"minigooglenet\")\n",
        "\t# return the constructed network architecture\n",
        "\treturn model"
      ],
      "execution_count": 62,
      "outputs": []
    },
    {
      "cell_type": "markdown",
      "metadata": {
        "id": "kza5QGVgMp0s",
        "colab_type": "text"
      },
      "source": [
        "3. Model Subclassing"
      ]
    },
    {
      "cell_type": "code",
      "metadata": {
        "colab_type": "code",
        "id": "Q937C1gJB_Q3",
        "colab": {}
      },
      "source": [
        "class MiniVGGNetModel(tf.keras.Model):\n",
        "\tdef __init__(self, classes, chanDim=-1):\n",
        "\t\t# call the parent constructor\n",
        "\t\tsuper(MiniVGGNetModel, self).__init__()\n",
        "\t\t\n",
        "\t\t# initialize the layers in the first (CONV => RELU) * 2 => POOL\n",
        "\t\t# layer set\n",
        "\t\tself.conv1A = Conv2D(32, (3, 3), padding=\"same\")\n",
        "\t\tself.act1A = Activation(\"relu\")\n",
        "\t\tself.bn1A = BatchNormalization(axis=chanDim)\n",
        "\t\tself.conv1B = Conv2D(32, (3, 3), padding=\"same\")\n",
        "\t\tself.act1B = Activation(\"relu\")\n",
        "\t\tself.bn1B = BatchNormalization(axis=chanDim)\n",
        "\t\tself.pool1 = MaxPooling2D(pool_size=(2, 2))\n",
        "\t\t\n",
        "\t\t# initialize the layers in the second (CONV => RELU) * 2 => POOL\n",
        "\t\t# layer set\n",
        "\t\tself.conv2A = Conv2D(32, (3, 3), padding=\"same\")\n",
        "\t\tself.act2A = Activation(\"relu\")\n",
        "\t\tself.bn2A = BatchNormalization(axis=chanDim)\n",
        "\t\tself.conv2B = Conv2D(32, (3, 3), padding=\"same\")\n",
        "\t\tself.act2B = Activation(\"relu\")\n",
        "\t\tself.bn2B = BatchNormalization(axis=chanDim)\n",
        "\t\tself.pool2 = MaxPooling2D(pool_size=(2, 2))\n",
        "\t\t\n",
        "\t\t# initialize the layers in our fully-connected layer set\n",
        "\t\tself.flatten = Flatten()\n",
        "\t\tself.dense3 = Dense(512)\n",
        "\t\tself.act3 = Activation(\"relu\")\n",
        "\t\tself.bn3 = BatchNormalization()\n",
        "\t\tself.do3 = Dropout(0.5)\n",
        "\t\t\n",
        "\t\t# initialize the layers in the softmax classifier layer set\n",
        "\t\tself.dense4 = Dense(classes)\n",
        "\t\tself.softmax = Activation(\"softmax\")\n",
        "  \n",
        "\t\n",
        "\t\n",
        "\tdef call(self, inputs):\n",
        "\t\t# build the first (CONV => RELU) * 2 => POOL layer set\n",
        "\t\tx = self.conv1A(inputs)\n",
        "\t\tx = self.act1A(x)\n",
        "\t\tx = self.bn1A(x)\n",
        "\t\tx = self.conv1B(x)\n",
        "\t\tx = self.act1B(x)\n",
        "\t\tx = self.bn1B(x)\n",
        "\t\tx = self.pool1(x)\n",
        "\t\t\n",
        "\t\t# build the second (CONV => RELU) * 2 => POOL layer set\n",
        "\t\tx = self.conv2A(x)\n",
        "\t\tx = self.act2A(x)\n",
        "\t\tx = self.bn2A(x)\n",
        "\t\tx = self.conv2B(x)\n",
        "\t\tx = self.act2B(x)\n",
        "\t\tx = self.bn2B(x)\n",
        "\t\tx = self.pool2(x)\n",
        "\t\t\n",
        "\t\t# build our FC layer set\n",
        "\t\tx = self.flatten(x)\n",
        "\t\tx = self.dense3(x)\n",
        "\t\tx = self.act3(x)\n",
        "\t\tx = self.bn3(x)\n",
        "\t\tx = self.do3(x)\n",
        "\t\t\n",
        "\t\t# build the softmax classifier\n",
        "\t\tx = self.dense4(x)\n",
        "\t\tx = self.softmax(x)\n",
        "\t\t\n",
        "\t\t# return the constructed model\n",
        "\t\treturn x"
      ],
      "execution_count": 64,
      "outputs": []
    }
  ]
}