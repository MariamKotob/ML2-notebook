{
  "nbformat": 4,
  "nbformat_minor": 0,
  "metadata": {
    "colab": {
      "name": "solution-data visualization.ipynb",
      "provenance": [],
      "collapsed_sections": [],
      "include_colab_link": true
    },
    "kernelspec": {
      "name": "python3",
      "display_name": "Python 3"
    }
  },
  "cells": [
    {
      "cell_type": "markdown",
      "metadata": {
        "id": "view-in-github",
        "colab_type": "text"
      },
      "source": [
        "<a href=\"https://colab.research.google.com/github/MariamKotob/ML2-notebook/blob/master/3-%20data%20visualization.ipynb\" target=\"_parent\"><img src=\"https://colab.research.google.com/assets/colab-badge.svg\" alt=\"Open In Colab\"/></a>"
      ]
    },
    {
      "cell_type": "markdown",
      "metadata": {
        "id": "7QRa58LU130a",
        "colab_type": "text"
      },
      "source": [
        "## Import Packages\n"
      ]
    },
    {
      "cell_type": "code",
      "metadata": {
        "id": "Hh0d-AsA16D-",
        "colab_type": "code",
        "colab": {}
      },
      "source": [
        "import numpy as np\n",
        "import pandas as pd\n",
        "import matplotlib.pyplot as plt\n",
        "import matplotlib.image as mpimg\n",
        "%matplotlib inline\n",
        "\n",
        "import os"
      ],
      "execution_count": 2,
      "outputs": []
    },
    {
      "cell_type": "markdown",
      "metadata": {
        "id": "LC0WGY0n2McF",
        "colab_type": "text"
      },
      "source": [
        "## Scatter plot  "
      ]
    },
    {
      "cell_type": "code",
      "metadata": {
        "id": "7O9wJgBj19c6",
        "colab_type": "code",
        "colab": {}
      },
      "source": [
        "years=[1950,1955,1960,1965,1970,1980,1985,1990,1995,2000,2005,2010,2015]\n",
        "pops=[2.5,2.7,3.0,3.3,3.6,4.0,4.4,4.8,5.3,5.7,6.1,6.5,7.3]\n",
        "# plot  a scatter chart where the x axis is the year and the y axis is the population you can use plt.plot "
      ],
      "execution_count": 8,
      "outputs": []
    },
    {
      "cell_type": "code",
      "metadata": {
        "id": "r_iGiHiVIyMb",
        "colab_type": "code",
        "colab": {
          "base_uri": "https://localhost:8080/",
          "height": 34
        },
        "outputId": "fa40a8c4-83c6-4007-a5e7-58bb706b4ce8"
      },
      "source": [
        "import numpy as np\n",
        "np.mean(pops)"
      ],
      "execution_count": 9,
      "outputs": [
        {
          "output_type": "execute_result",
          "data": {
            "text/plain": [
              "4.553846153846154"
            ]
          },
          "metadata": {
            "tags": []
          },
          "execution_count": 9
        }
      ]
    },
    {
      "cell_type": "code",
      "metadata": {
        "id": "qIQ9qYZEJIVD",
        "colab_type": "code",
        "colab": {}
      },
      "source": [
        "df = pd.DataFrame(columns=['year','pops'])\n",
        "df['year'] = years\n",
        "df['pops'] = pops"
      ],
      "execution_count": 10,
      "outputs": []
    },
    {
      "cell_type": "code",
      "metadata": {
        "id": "1lYNvacwKCvE",
        "colab_type": "code",
        "colab": {
          "base_uri": "https://localhost:8080/",
          "height": 204
        },
        "outputId": "463292cf-8e44-4179-b823-7c545f582baa"
      },
      "source": [
        "\n",
        "df = pd.DataFrame(data = list(zip(years, pops)), columns=['year','pops'])\n",
        "df.head()"
      ],
      "execution_count": 12,
      "outputs": [
        {
          "output_type": "execute_result",
          "data": {
            "text/html": [
              "<div>\n",
              "<style scoped>\n",
              "    .dataframe tbody tr th:only-of-type {\n",
              "        vertical-align: middle;\n",
              "    }\n",
              "\n",
              "    .dataframe tbody tr th {\n",
              "        vertical-align: top;\n",
              "    }\n",
              "\n",
              "    .dataframe thead th {\n",
              "        text-align: right;\n",
              "    }\n",
              "</style>\n",
              "<table border=\"1\" class=\"dataframe\">\n",
              "  <thead>\n",
              "    <tr style=\"text-align: right;\">\n",
              "      <th></th>\n",
              "      <th>year</th>\n",
              "      <th>pops</th>\n",
              "    </tr>\n",
              "  </thead>\n",
              "  <tbody>\n",
              "    <tr>\n",
              "      <th>0</th>\n",
              "      <td>1950</td>\n",
              "      <td>2.5</td>\n",
              "    </tr>\n",
              "    <tr>\n",
              "      <th>1</th>\n",
              "      <td>1955</td>\n",
              "      <td>2.7</td>\n",
              "    </tr>\n",
              "    <tr>\n",
              "      <th>2</th>\n",
              "      <td>1960</td>\n",
              "      <td>3.0</td>\n",
              "    </tr>\n",
              "    <tr>\n",
              "      <th>3</th>\n",
              "      <td>1965</td>\n",
              "      <td>3.3</td>\n",
              "    </tr>\n",
              "    <tr>\n",
              "      <th>4</th>\n",
              "      <td>1970</td>\n",
              "      <td>3.6</td>\n",
              "    </tr>\n",
              "  </tbody>\n",
              "</table>\n",
              "</div>"
            ],
            "text/plain": [
              "   year  pops\n",
              "0  1950   2.5\n",
              "1  1955   2.7\n",
              "2  1960   3.0\n",
              "3  1965   3.3\n",
              "4  1970   3.6"
            ]
          },
          "metadata": {
            "tags": []
          },
          "execution_count": 12
        }
      ]
    },
    {
      "cell_type": "code",
      "metadata": {
        "id": "ftZfSWNWJlc3",
        "colab_type": "code",
        "colab": {
          "base_uri": "https://localhost:8080/",
          "height": 204
        },
        "outputId": "ff6545a6-a858-4196-f3bb-b40929293d7e"
      },
      "source": [
        "df.head()"
      ],
      "execution_count": 13,
      "outputs": [
        {
          "output_type": "execute_result",
          "data": {
            "text/html": [
              "<div>\n",
              "<style scoped>\n",
              "    .dataframe tbody tr th:only-of-type {\n",
              "        vertical-align: middle;\n",
              "    }\n",
              "\n",
              "    .dataframe tbody tr th {\n",
              "        vertical-align: top;\n",
              "    }\n",
              "\n",
              "    .dataframe thead th {\n",
              "        text-align: right;\n",
              "    }\n",
              "</style>\n",
              "<table border=\"1\" class=\"dataframe\">\n",
              "  <thead>\n",
              "    <tr style=\"text-align: right;\">\n",
              "      <th></th>\n",
              "      <th>year</th>\n",
              "      <th>pops</th>\n",
              "    </tr>\n",
              "  </thead>\n",
              "  <tbody>\n",
              "    <tr>\n",
              "      <th>0</th>\n",
              "      <td>1950</td>\n",
              "      <td>2.5</td>\n",
              "    </tr>\n",
              "    <tr>\n",
              "      <th>1</th>\n",
              "      <td>1955</td>\n",
              "      <td>2.7</td>\n",
              "    </tr>\n",
              "    <tr>\n",
              "      <th>2</th>\n",
              "      <td>1960</td>\n",
              "      <td>3.0</td>\n",
              "    </tr>\n",
              "    <tr>\n",
              "      <th>3</th>\n",
              "      <td>1965</td>\n",
              "      <td>3.3</td>\n",
              "    </tr>\n",
              "    <tr>\n",
              "      <th>4</th>\n",
              "      <td>1970</td>\n",
              "      <td>3.6</td>\n",
              "    </tr>\n",
              "  </tbody>\n",
              "</table>\n",
              "</div>"
            ],
            "text/plain": [
              "   year  pops\n",
              "0  1950   2.5\n",
              "1  1955   2.7\n",
              "2  1960   3.0\n",
              "3  1965   3.3\n",
              "4  1970   3.6"
            ]
          },
          "metadata": {
            "tags": []
          },
          "execution_count": 13
        }
      ]
    },
    {
      "cell_type": "code",
      "metadata": {
        "id": "ZZZvcWxvJnG6",
        "colab_type": "code",
        "colab": {
          "base_uri": "https://localhost:8080/",
          "height": 297
        },
        "outputId": "76e7f54b-ce4d-4607-ddca-571133867d40"
      },
      "source": [
        "df.describe()"
      ],
      "execution_count": 14,
      "outputs": [
        {
          "output_type": "execute_result",
          "data": {
            "text/html": [
              "<div>\n",
              "<style scoped>\n",
              "    .dataframe tbody tr th:only-of-type {\n",
              "        vertical-align: middle;\n",
              "    }\n",
              "\n",
              "    .dataframe tbody tr th {\n",
              "        vertical-align: top;\n",
              "    }\n",
              "\n",
              "    .dataframe thead th {\n",
              "        text-align: right;\n",
              "    }\n",
              "</style>\n",
              "<table border=\"1\" class=\"dataframe\">\n",
              "  <thead>\n",
              "    <tr style=\"text-align: right;\">\n",
              "      <th></th>\n",
              "      <th>year</th>\n",
              "      <th>pops</th>\n",
              "    </tr>\n",
              "  </thead>\n",
              "  <tbody>\n",
              "    <tr>\n",
              "      <th>count</th>\n",
              "      <td>13.000000</td>\n",
              "      <td>13.000000</td>\n",
              "    </tr>\n",
              "    <tr>\n",
              "      <th>mean</th>\n",
              "      <td>1983.076923</td>\n",
              "      <td>4.553846</td>\n",
              "    </tr>\n",
              "    <tr>\n",
              "      <th>std</th>\n",
              "      <td>21.654336</td>\n",
              "      <td>1.541977</td>\n",
              "    </tr>\n",
              "    <tr>\n",
              "      <th>min</th>\n",
              "      <td>1950.000000</td>\n",
              "      <td>2.500000</td>\n",
              "    </tr>\n",
              "    <tr>\n",
              "      <th>25%</th>\n",
              "      <td>1965.000000</td>\n",
              "      <td>3.300000</td>\n",
              "    </tr>\n",
              "    <tr>\n",
              "      <th>50%</th>\n",
              "      <td>1985.000000</td>\n",
              "      <td>4.400000</td>\n",
              "    </tr>\n",
              "    <tr>\n",
              "      <th>75%</th>\n",
              "      <td>2000.000000</td>\n",
              "      <td>5.700000</td>\n",
              "    </tr>\n",
              "    <tr>\n",
              "      <th>max</th>\n",
              "      <td>2015.000000</td>\n",
              "      <td>7.300000</td>\n",
              "    </tr>\n",
              "  </tbody>\n",
              "</table>\n",
              "</div>"
            ],
            "text/plain": [
              "              year       pops\n",
              "count    13.000000  13.000000\n",
              "mean   1983.076923   4.553846\n",
              "std      21.654336   1.541977\n",
              "min    1950.000000   2.500000\n",
              "25%    1965.000000   3.300000\n",
              "50%    1985.000000   4.400000\n",
              "75%    2000.000000   5.700000\n",
              "max    2015.000000   7.300000"
            ]
          },
          "metadata": {
            "tags": []
          },
          "execution_count": 14
        }
      ]
    },
    {
      "cell_type": "code",
      "metadata": {
        "id": "XQxe8Aro2mDE",
        "colab_type": "code",
        "cellView": "both",
        "colab": {
          "base_uri": "https://localhost:8080/",
          "height": 282
        },
        "outputId": "4941e0a2-6b19-47e7-c45a-bfd20b2162e6"
      },
      "source": [
        "#@title solution \n",
        "plt.plot(years,pops)\n",
        "plt.show"
      ],
      "execution_count": 15,
      "outputs": [
        {
          "output_type": "execute_result",
          "data": {
            "text/plain": [
              "<function matplotlib.pyplot.show>"
            ]
          },
          "metadata": {
            "tags": []
          },
          "execution_count": 15
        },
        {
          "output_type": "display_data",
          "data": {
            "image/png": "[encoded data removed]",
            "text/plain": [
              "<Figure size 432x288 with 1 Axes>"
            ]
          },
          "metadata": {
            "tags": [],
            "needs_background": "light"
          }
        }
      ]
    },
    {
      "cell_type": "code",
      "metadata": {
        "id": "k0MmcxLIKB0Q",
        "colab_type": "code",
        "colab": {
          "base_uri": "https://localhost:8080/",
          "height": 282
        },
        "outputId": "fcede7f8-2ddc-4ad5-a4d1-62d43a252794"
      },
      "source": [
        "plt.scatter(years, pops)"
      ],
      "execution_count": 16,
      "outputs": [
        {
          "output_type": "execute_result",
          "data": {
            "text/plain": [
              "<matplotlib.collections.PathCollection at 0x7fe550837780>"
            ]
          },
          "metadata": {
            "tags": []
          },
          "execution_count": 16
        },
        {
          "output_type": "display_data",
          "data": {
            "image/png": "[encoded data removed]",
            "text/plain": [
              "<Figure size 432x288 with 1 Axes>"
            ]
          },
          "metadata": {
            "tags": [],
            "needs_background": "light"
          }
        }
      ]
    },
    {
      "cell_type": "code",
      "metadata": {
        "id": "I0IpbMPa3JlB",
        "colab_type": "code",
        "colab": {}
      },
      "source": [
        "# add labels and custom line color  hints (plt.ylabel , plt.xlabel)"
      ],
      "execution_count": null,
      "outputs": []
    },
    {
      "cell_type": "code",
      "metadata": {
        "id": "E1u1M7Ht3z6T",
        "colab_type": "code",
        "cellView": "both",
        "colab": {
          "base_uri": "https://localhost:8080/",
          "height": 312
        },
        "outputId": "092a7980-106d-43e5-b30d-2e764c185ca2"
      },
      "source": [
        "#@title solution\n",
        "plt.plot(years,pops,color=(255/255,100/255,100/255))\n",
        "plt.ylabel(\"Population in Billions\")\n",
        "plt.xlabel(\"Population growth by year\")\n",
        "plt.title(\"Population Growth\")\n",
        "plt.show"
      ],
      "execution_count": 17,
      "outputs": [
        {
          "output_type": "execute_result",
          "data": {
            "text/plain": [
              "<function matplotlib.pyplot.show>"
            ]
          },
          "metadata": {
            "tags": []
          },
          "execution_count": 17
        },
        {
          "output_type": "display_data",
          "data": {
            "image/png": "[encoded data removed]",
            "text/plain": [
              "<Figure size 432x288 with 1 Axes>"
            ]
          },
          "metadata": {
            "tags": [],
            "needs_background": "light"
          }
        }
      ]
    },
    {
      "cell_type": "code",
      "metadata": {
        "id": "vW816UlQ33nT",
        "colab_type": "code",
        "colab": {}
      },
      "source": [
        "# ploting to lines on teh same chart and add the legend  \n",
        "x = [1,6,3]\n",
        "y = [5,9,4]\n",
        "\n",
        "x2 = [1,2,3]\n",
        "y2 = [10,14,12]\n"
      ],
      "execution_count": 18,
      "outputs": []
    },
    {
      "cell_type": "code",
      "metadata": {
        "id": "NA8hgYK-4TOE",
        "colab_type": "code",
        "cellView": "both",
        "colab": {
          "base_uri": "https://localhost:8080/",
          "height": 248
        },
        "outputId": "50ef3dd5-a1bb-4d16-e902-9b270046794a"
      },
      "source": [
        "#@title solution\n",
        "f,ax = plt.figure()\n",
        "plt.plot(x, y, label='First Line', ax=ax)\n",
        "plt.plot(x2, y2, label='Second Line', ax=ax)\n",
        "plt.xlabel('Plot Number')\n",
        "plt.ylabel('Important var')\n",
        "plt.title('your first Interesting Graph')\n",
        "plt.legend()\n",
        "plt.show()"
      ],
      "execution_count": 19,
      "outputs": [
        {
          "output_type": "error",
          "ename": "TypeError",
          "evalue": "ignored",
          "traceback": [
            "\u001b[0;31m---------------------------------------------------------------------------\u001b[0m",
            "\u001b[0;31mTypeError\u001b[0m                                 Traceback (most recent call last)",
            "\u001b[0;32m<ipython-input-19-8e040c23cb39>\u001b[0m in \u001b[0;36m<module>\u001b[0;34m()\u001b[0m\n\u001b[1;32m      1\u001b[0m \u001b[0;31m#@title solution\u001b[0m\u001b[0;34m\u001b[0m\u001b[0;34m\u001b[0m\u001b[0;34m\u001b[0m\u001b[0m\n\u001b[0;32m----> 2\u001b[0;31m \u001b[0mf\u001b[0m\u001b[0;34m,\u001b[0m\u001b[0max\u001b[0m \u001b[0;34m=\u001b[0m \u001b[0mplt\u001b[0m\u001b[0;34m.\u001b[0m\u001b[0mfigure\u001b[0m\u001b[0;34m(\u001b[0m\u001b[0;34m)\u001b[0m\u001b[0;34m\u001b[0m\u001b[0;34m\u001b[0m\u001b[0m\n\u001b[0m\u001b[1;32m      3\u001b[0m \u001b[0mplt\u001b[0m\u001b[0;34m.\u001b[0m\u001b[0mplot\u001b[0m\u001b[0;34m(\u001b[0m\u001b[0mx\u001b[0m\u001b[0;34m,\u001b[0m \u001b[0my\u001b[0m\u001b[0;34m,\u001b[0m \u001b[0mlabel\u001b[0m\u001b[0;34m=\u001b[0m\u001b[0;34m'First Line'\u001b[0m\u001b[0;34m,\u001b[0m \u001b[0max\u001b[0m\u001b[0;34m=\u001b[0m\u001b[0max\u001b[0m\u001b[0;34m)\u001b[0m\u001b[0;34m\u001b[0m\u001b[0;34m\u001b[0m\u001b[0m\n\u001b[1;32m      4\u001b[0m \u001b[0mplt\u001b[0m\u001b[0;34m.\u001b[0m\u001b[0mplot\u001b[0m\u001b[0;34m(\u001b[0m\u001b[0mx2\u001b[0m\u001b[0;34m,\u001b[0m \u001b[0my2\u001b[0m\u001b[0;34m,\u001b[0m \u001b[0mlabel\u001b[0m\u001b[0;34m=\u001b[0m\u001b[0;34m'Second Line'\u001b[0m\u001b[0;34m,\u001b[0m \u001b[0max\u001b[0m\u001b[0;34m=\u001b[0m\u001b[0max\u001b[0m\u001b[0;34m)\u001b[0m\u001b[0;34m\u001b[0m\u001b[0;34m\u001b[0m\u001b[0m\n\u001b[1;32m      5\u001b[0m \u001b[0mplt\u001b[0m\u001b[0;34m.\u001b[0m\u001b[0mxlabel\u001b[0m\u001b[0;34m(\u001b[0m\u001b[0;34m'Plot Number'\u001b[0m\u001b[0;34m)\u001b[0m\u001b[0;34m\u001b[0m\u001b[0;34m\u001b[0m\u001b[0m\n",
            "\u001b[0;31mTypeError\u001b[0m: 'Figure' object is not iterable"
          ]
        },
        {
          "output_type": "display_data",
          "data": {
            "text/plain": [
              "<Figure size 432x288 with 0 Axes>"
            ]
          },
          "metadata": {
            "tags": []
          }
        }
      ]
    },
    {
      "cell_type": "code",
      "metadata": {
        "id": "3pT_1bwa4c8M",
        "colab_type": "code",
        "colab": {}
      },
      "source": [
        "#plot Multiple lines with line styling \n",
        "years=[1950,1955,1960,1965,1970,1980,1985,1990,1995,2000,2005,2010,2015]\n",
        "pops=[2.5,2.7,3.0,3.3,3.6,4.0,4.4,4.8,5.3,5.7,6.1,6.5,7.3]\n",
        "death=[1.2,1.1,1.2,2.1,2.0,2.3,1.8,1.9,2.6,1.6,2.4,2.4,4.0]\n",
        "# hints check the args of plt.plot \n",
        "# set the title to Population in Billions \n",
        "# set the x label to Population growth by year \n",
        "# set the y label to Population in Billions\n",
        "# set the color of the population line  to red and the style to \"--\""
      ],
      "execution_count": 20,
      "outputs": []
    },
    {
      "cell_type": "code",
      "metadata": {
        "id": "YJ4_GpiN400m",
        "colab_type": "code",
        "cellView": "both",
        "colab": {
          "base_uri": "https://localhost:8080/",
          "height": 312
        },
        "outputId": "be8ddc1f-723a-4ccf-c748-d1bf26c21da4"
      },
      "source": [
        "#@title solution\n",
        "plt.plot(years,pops,'--',color=(255/255,100/255,100/255))\n",
        "plt.plot(years,death,color=(.6,.6,1))\n",
        "plt.ylabel(\"Population in Billions\")\n",
        "plt.xlabel(\"Population growth by year\")\n",
        "plt.title(\"Population Growth\")\n",
        "plt.show"
      ],
      "execution_count": 21,
      "outputs": [
        {
          "output_type": "execute_result",
          "data": {
            "text/plain": [
              "<function matplotlib.pyplot.show>"
            ]
          },
          "metadata": {
            "tags": []
          },
          "execution_count": 21
        },
        {
          "output_type": "display_data",
          "data": {
            "image/png": "[encoded data removed]",
            "text/plain": [
              "<Figure size 432x288 with 1 Axes>"
            ]
          },
          "metadata": {
            "tags": [],
            "needs_background": "light"
          }
        }
      ]
    },
    {
      "cell_type": "markdown",
      "metadata": {
        "id": "7RfKfib65pL2",
        "colab_type": "text"
      },
      "source": [
        "## Pie charts "
      ]
    },
    {
      "cell_type": "markdown",
      "metadata": {
        "id": "boKRPNj66mtP",
        "colab_type": "text"
      },
      "source": [
        "###Using matplotlib"
      ]
    },
    {
      "cell_type": "code",
      "metadata": {
        "id": "UyHuh7HL5gwJ",
        "colab_type": "code",
        "colab": {}
      },
      "source": [
        "labels=['Python','C','C++','PHP','Java','Ruby']\n",
        "sizes=[33,52,12,17,42,48]\n",
        "# plot pi charts using plt.pie \n",
        "# set plt.axis to \"equal\" \n"
      ],
      "execution_count": 22,
      "outputs": []
    },
    {
      "cell_type": "code",
      "metadata": {
        "id": "buRns2K05kM5",
        "colab_type": "code",
        "cellView": "both",
        "colab": {
          "base_uri": "https://localhost:8080/",
          "height": 249
        },
        "outputId": "62fa9878-ac6f-486d-ecf4-f8287efdb408"
      },
      "source": [
        "#@title solution\n",
        "plt.pie(sizes,labels=labels)\n",
        "plt.axis('equal')\n",
        "plt.show()"
      ],
      "execution_count": 23,
      "outputs": [
        {
          "output_type": "display_data",
          "data": {
            "image/png": "[encoded data removed]",
            "text/plain": [
              "<Figure size 432x288 with 1 Axes>"
            ]
          },
          "metadata": {
            "tags": []
          }
        }
      ]
    },
    {
      "cell_type": "code",
      "metadata": {
        "id": "CN6apys06BYE",
        "colab_type": "code",
        "colab": {}
      },
      "source": [
        "# explode the python and  the C lables by 0.1 hints set teh explode arg on plt.pie"
      ],
      "execution_count": 24,
      "outputs": []
    },
    {
      "cell_type": "code",
      "metadata": {
        "id": "WY63oxvH6bIZ",
        "colab_type": "code",
        "cellView": "both",
        "colab": {
          "base_uri": "https://localhost:8080/",
          "height": 249
        },
        "outputId": "df3d2054-df12-4274-9b2d-fdff0f64ad8c"
      },
      "source": [
        "#@title solution\n",
        "\n",
        "separated=(.1,.1,0,0,0,0)\n",
        "plt.pie(sizes,labels=labels,autopct='%1.1f%%',explode=separated)\n",
        "plt.axis('equal')\n",
        "plt.show()"
      ],
      "execution_count": 25,
      "outputs": [
        {
          "output_type": "display_data",
          "data": {
            "image/png": "[encoded data removed]",
            "text/plain": [
              "<Figure size 432x288 with 1 Axes>"
            ]
          },
          "metadata": {
            "tags": []
          }
        }
      ]
    },
    {
      "cell_type": "markdown",
      "metadata": {
        "id": "iWEPP4JZ6qQH",
        "colab_type": "text"
      },
      "source": [
        "### Using  pandas"
      ]
    },
    {
      "cell_type": "code",
      "metadata": {
        "id": "Kb3PuVrP6duu",
        "colab_type": "code",
        "colab": {
          "base_uri": "https://localhost:8080/",
          "height": 204
        },
        "outputId": "e170df79-944a-4c75-89db-69330ffd9f8e"
      },
      "source": [
        "raw_data={'names':['Nick','Sani','John','Rubi','Maya'],\n",
        "         'jan_ir':[123,124,125,126,128],\n",
        "         'feb_ir':[23,24,25,27,29],\n",
        "         'march_ir':[3,5,7,6,9]}\n",
        "\n",
        "df=pd.DataFrame(raw_data,columns=['names','jan_ir','feb_ir','march_ir'])\n",
        "df['total_ir']=df['jan_ir']+df['feb_ir']+df['march_ir']\n",
        "df"
      ],
      "execution_count": 26,
      "outputs": [
        {
          "output_type": "execute_result",
          "data": {
            "text/html": [
              "<div>\n",
              "<style scoped>\n",
              "    .dataframe tbody tr th:only-of-type {\n",
              "        vertical-align: middle;\n",
              "    }\n",
              "\n",
              "    .dataframe tbody tr th {\n",
              "        vertical-align: top;\n",
              "    }\n",
              "\n",
              "    .dataframe thead th {\n",
              "        text-align: right;\n",
              "    }\n",
              "</style>\n",
              "<table border=\"1\" class=\"dataframe\">\n",
              "  <thead>\n",
              "    <tr style=\"text-align: right;\">\n",
              "      <th></th>\n",
              "      <th>names</th>\n",
              "      <th>jan_ir</th>\n",
              "      <th>feb_ir</th>\n",
              "      <th>march_ir</th>\n",
              "      <th>total_ir</th>\n",
              "    </tr>\n",
              "  </thead>\n",
              "  <tbody>\n",
              "    <tr>\n",
              "      <th>0</th>\n",
              "      <td>Nick</td>\n",
              "      <td>123</td>\n",
              "      <td>23</td>\n",
              "      <td>3</td>\n",
              "      <td>149</td>\n",
              "    </tr>\n",
              "    <tr>\n",
              "      <th>1</th>\n",
              "      <td>Sani</td>\n",
              "      <td>124</td>\n",
              "      <td>24</td>\n",
              "      <td>5</td>\n",
              "      <td>153</td>\n",
              "    </tr>\n",
              "    <tr>\n",
              "      <th>2</th>\n",
              "      <td>John</td>\n",
              "      <td>125</td>\n",
              "      <td>25</td>\n",
              "      <td>7</td>\n",
              "      <td>157</td>\n",
              "    </tr>\n",
              "    <tr>\n",
              "      <th>3</th>\n",
              "      <td>Rubi</td>\n",
              "      <td>126</td>\n",
              "      <td>27</td>\n",
              "      <td>6</td>\n",
              "      <td>159</td>\n",
              "    </tr>\n",
              "    <tr>\n",
              "      <th>4</th>\n",
              "      <td>Maya</td>\n",
              "      <td>128</td>\n",
              "      <td>29</td>\n",
              "      <td>9</td>\n",
              "      <td>166</td>\n",
              "    </tr>\n",
              "  </tbody>\n",
              "</table>\n",
              "</div>"
            ],
            "text/plain": [
              "  names  jan_ir  feb_ir  march_ir  total_ir\n",
              "0  Nick     123      23         3       149\n",
              "1  Sani     124      24         5       153\n",
              "2  John     125      25         7       157\n",
              "3  Rubi     126      27         6       159\n",
              "4  Maya     128      29         9       166"
            ]
          },
          "metadata": {
            "tags": []
          },
          "execution_count": 26
        }
      ]
    },
    {
      "cell_type": "code",
      "metadata": {
        "id": "lHNd9hIwT_5l",
        "colab_type": "code",
        "colab": {}
      },
      "source": [
        "# set names column  as index and plot pie chart for  total_ir "
      ],
      "execution_count": null,
      "outputs": []
    },
    {
      "cell_type": "code",
      "metadata": {
        "id": "HL4CmpzWSHF6",
        "colab_type": "code",
        "cellView": "both",
        "colab": {
          "base_uri": "https://localhost:8080/",
          "height": 265
        },
        "outputId": "fbe9c420-486c-41de-cdf1-cf67d14a0d44"
      },
      "source": [
        "#@title solution \n",
        "df.set_index(\"names\").plot.pie(y=\"total_ir\")"
      ],
      "execution_count": null,
      "outputs": [
        {
          "output_type": "execute_result",
          "data": {
            "text/plain": [
              "<matplotlib.axes._subplots.AxesSubplot at 0x7fedd025c3c8>"
            ]
          },
          "metadata": {
            "tags": []
          },
          "execution_count": 26
        },
        {
          "output_type": "display_data",
          "data": {
            "image/png": "[encoded data removed]",
            "text/plain": [
              "<Figure size 432x288 with 1 Axes>"
            ]
          },
          "metadata": {
            "tags": []
          }
        }
      ]
    },
    {
      "cell_type": "code",
      "metadata": {
        "id": "l8pngr7cTNHg",
        "colab_type": "code",
        "colab": {}
      },
      "source": [
        "# use plt.pie and plot total_ir for each name \n",
        "# set the colors for each secation using list of tuples  "
      ],
      "execution_count": null,
      "outputs": []
    },
    {
      "cell_type": "code",
      "metadata": {
        "id": "oXiJFr88UoXo",
        "colab_type": "code",
        "cellView": "both",
        "colab": {
          "base_uri": "https://localhost:8080/",
          "height": 248
        },
        "outputId": "c70f062c-162d-499b-8c90-47eee30b220a"
      },
      "source": [
        "#@title solution \n",
        "color=[(1,.4,.4),(1,.6,1),(.5,.3,1),(.3,1,.5),(.7,.7,.2)]\n",
        "plt.pie(df['total_ir'],labels=df['names'],colors=color)\n",
        "plt.axis('equal')\n",
        "plt.show()"
      ],
      "execution_count": null,
      "outputs": [
        {
          "output_type": "display_data",
          "data": {
            "image/png": "[encoded data removed]",
            "text/plain": [
              "<Figure size 432x288 with 1 Axes>"
            ]
          },
          "metadata": {
            "tags": []
          }
        }
      ]
    },
    {
      "cell_type": "markdown",
      "metadata": {
        "id": "ltSPz0acU3VO",
        "colab_type": "text"
      },
      "source": [
        "## Bar charts"
      ]
    },
    {
      "cell_type": "code",
      "metadata": {
        "id": "wVC_rC3RUQGu",
        "colab_type": "code",
        "colab": {
          "base_uri": "https://localhost:8080/",
          "height": 129
        },
        "outputId": "df15d1f0-c5b9-4e69-d0ef-1fb923cce2d3"
      },
      "source": [
        "# Create a  tuple contains 5 random integer values\n",
        "tuple_values=\n",
        "# create index range  of length of tuple_values\n",
        "index=\n",
        "# set bar_width\n",
        "bar_width=\n",
        "# set plot bar and set label attribute to score 1 \n",
        "plt.bar(index,tuple_values,bar_width,alpha=.9,label=\"score 1\")\n",
        "# set ylabel to lables \n",
        "\n",
        "# set xlabels to score \n",
        "\n",
        "# set title to scores\n",
        "\n",
        "# show legend \n",
        "\n",
        "# show plot \n"
      ],
      "execution_count": null,
      "outputs": [
        {
          "output_type": "error",
          "ename": "SyntaxError",
          "evalue": "ignored",
          "traceback": [
            "\u001b[0;36m  File \u001b[0;32m\"<ipython-input-30-f10b39e3ff86>\"\u001b[0;36m, line \u001b[0;32m2\u001b[0m\n\u001b[0;31m    tuple_values=\u001b[0m\n\u001b[0m                 ^\u001b[0m\n\u001b[0;31mSyntaxError\u001b[0m\u001b[0;31m:\u001b[0m invalid syntax\n"
          ]
        }
      ]
    },
    {
      "cell_type": "code",
      "metadata": {
        "id": "htnnYeSBW7vm",
        "colab_type": "code",
        "cellView": "both",
        "colab": {
          "base_uri": "https://localhost:8080/",
          "height": 295
        },
        "outputId": "76fb33f0-ce0d-4802-b48f-b57f87d77ad3"
      },
      "source": [
        "#@title solution \n",
        "# Create a  tuple contains 5 random integer values\n",
        "tuple_values=(500,600,200,655,10)\n",
        "# create index range  of length of tuple_values\n",
        "index=np.arange(len(tuple_values))\n",
        "# set bar_width\n",
        "bar_width=.2\n",
        "# set plot bar \n",
        "plt.bar(index,tuple_values,bar_width,label=\"score 1\")\n",
        "# set ylabel to lables \n",
        "plt.ylabel('labels')\n",
        "# set xlabels to score \n",
        "plt.xlabel('score')\n",
        "# set title to scores\n",
        "plt.title('scores')\n",
        "# show legend \n",
        "plt.legend()\n",
        "# show plot \n",
        "plt.show()"
      ],
      "execution_count": null,
      "outputs": [
        {
          "output_type": "display_data",
          "data": {
            "image/png": "[encoded data removed]",
            "text/plain": [
              "<Figure size 432x288 with 1 Axes>"
            ]
          },
          "metadata": {
            "tags": [],
            "needs_background": "light"
          }
        }
      ]
    },
    {
      "cell_type": "code",
      "metadata": {
        "id": "brYTyJY-X0NA",
        "colab_type": "code",
        "colab": {}
      },
      "source": [
        "labels_1=[1,3,5,7,9,11]\n",
        "values_1=[40,50,60,100,200,10]\n",
        "lables_2=[2,4,6,8,10,12]\n",
        "values_2=[520,87,56,96,200,300]\n",
        "# plot the  first bar plot and set label to Example one \n",
        "\n",
        "# plot the second bar plot and set label to Example two and color to green  \n",
        "\n",
        "# show legend \n",
        "\n",
        "# set xlabel to bar number \n",
        "\n",
        "# set ylabel to bar height \n",
        "\n",
        "# set title to bar plot  2 \n",
        "\n",
        "# show plot \n",
        "plt.show()"
      ],
      "execution_count": null,
      "outputs": []
    },
    {
      "cell_type": "code",
      "metadata": {
        "id": "yrXMAczbYoft",
        "colab_type": "code",
        "cellView": "both",
        "colab": {
          "base_uri": "https://localhost:8080/",
          "height": 295
        },
        "outputId": "f6a5379e-60a9-4e01-82cf-aaf554d5ed5d"
      },
      "source": [
        "#@title solution \n",
        "labels_1=[1,3,5,7,9,11]\n",
        "values_1=[40,50,60,100,200,10]\n",
        "lables_2=[2,4,6,8,10,12]\n",
        "values_2=[520,87,56,96,200,300]\n",
        "# plot the  first bar plot and set label to Example one \n",
        "plt.bar(labels_1,values_1, label=\"Example one\")\n",
        "# plot the second bar plot and set label to Example two and color to green  \n",
        "plt.bar(lables_2,values_2, label=\"Example two\", color='g')\n",
        "# show legend \n",
        "plt.legend()\n",
        "# set xlabel to bar number \n",
        "plt.xlabel('bar number')\n",
        "# set ylabel to bar height \n",
        "plt.ylabel('bar height')\n",
        "# set title to bar plot  2 \n",
        "plt.title('bar plot 2 ')\n",
        "# show plot \n",
        "plt.show()"
      ],
      "execution_count": null,
      "outputs": [
        {
          "output_type": "display_data",
          "data": {
            "image/png": "[encoded data removed]",
            "text/plain": [
              "<Figure size 432x288 with 1 Axes>"
            ]
          },
          "metadata": {
            "tags": [],
            "needs_background": "light"
          }
        }
      ]
    },
    {
      "cell_type": "markdown",
      "metadata": {
        "id": "b5C09gvdaJ2v",
        "colab_type": "text"
      },
      "source": [
        "## Histograms "
      ]
    },
    {
      "cell_type": "code",
      "metadata": {
        "id": "3YUjl4FjbP63",
        "colab_type": "code",
        "colab": {
          "base_uri": "https://localhost:8080/",
          "height": 333
        },
        "outputId": "b311d335-1bc6-4aef-b96d-3a295ba4083e"
      },
      "source": [
        "population_ages = [22,55,62,45,21,22,34,42,42,4,99,102,110,120,121,122,130,111,115,112,80,75,65,54,44,43,42,48]\n",
        "\n",
        "bins = [0,10,20,30,40,50,60,70,80,90,100,110,120,130]\n",
        "# plot hist for population_ages and set histtype attribute to bar \n",
        "plt.hist(population_ages, bins, histtype='bar')\n",
        "# set xlabel age\n",
        "\n",
        "# set ylabel to frequency \n",
        "\n",
        "# set title to age frequency\n",
        "\n",
        "# show plot \n"
      ],
      "execution_count": null,
      "outputs": [
        {
          "output_type": "execute_result",
          "data": {
            "text/plain": [
              "(array([1., 0., 3., 1., 7., 2., 2., 1., 1., 1., 1., 4., 4.]),\n",
              " array([  0,  10,  20,  30,  40,  50,  60,  70,  80,  90, 100, 110, 120,\n",
              "        130]),\n",
              " <a list of 13 Patch objects>)"
            ]
          },
          "metadata": {
            "tags": []
          },
          "execution_count": 23
        },
        {
          "output_type": "display_data",
          "data": {
            "image/png": "[encoded data removed]",
            "text/plain": [
              "<Figure size 432x288 with 1 Axes>"
            ]
          },
          "metadata": {
            "tags": [],
            "needs_background": "light"
          }
        }
      ]
    },
    {
      "cell_type": "code",
      "metadata": {
        "id": "6JVBiTjLb51D",
        "colab_type": "code",
        "cellView": "both",
        "colab": {
          "base_uri": "https://localhost:8080/",
          "height": 295
        },
        "outputId": "d265eaae-108b-419e-a953-7c4c85fc7567"
      },
      "source": [
        "#@title solution\n",
        "population_ages = [22,55,62,45,21,22,34,42,42,4,99,102,110,120,121,122,130,111,115,112,80,75,65,54,44,43,42,48]\n",
        "\n",
        "bins = [0,10,20,30,40,50,60,70,80,90,100,110,120,130]\n",
        "# plot hist for population_ages \n",
        "plt.hist(population_ages, bins, histtype='bar')\n",
        "# set xlabel age\n",
        "plt.xlabel('age')\n",
        "# set ylabel to frequency \n",
        "plt.ylabel('frequency')\n",
        "# set title to age frequency\n",
        "plt.title('age frequency')\n",
        "# show plot \n",
        "plt.show()"
      ],
      "execution_count": null,
      "outputs": [
        {
          "output_type": "display_data",
          "data": {
            "image/png": "[encoded data removed]",
            "text/plain": [
              "<Figure size 432x288 with 1 Axes>"
            ]
          },
          "metadata": {
            "tags": [],
            "needs_background": "light"
          }
        }
      ]
    },
    {
      "cell_type": "code",
      "metadata": {
        "id": "X39A_0pRcWMl",
        "colab_type": "code",
        "colab": {}
      },
      "source": [
        ""
      ],
      "execution_count": null,
      "outputs": []
    }
  ]
}